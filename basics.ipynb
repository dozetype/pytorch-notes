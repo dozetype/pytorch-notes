{
  "nbformat": 4,
  "nbformat_minor": 0,
  "metadata": {
    "colab": {
      "provenance": [],
      "gpuType": "T4",
      "authorship_tag": "ABX9TyPA9F8ZhFr3SMNqbbxrHi9F",
      "include_colab_link": true
    },
    "kernelspec": {
      "name": "python3",
      "display_name": "Python 3"
    },
    "language_info": {
      "name": "python"
    }
  },
  "cells": [
    {
      "cell_type": "markdown",
      "metadata": {
        "id": "view-in-github",
        "colab_type": "text"
      },
      "source": [
        "<a href=\"https://colab.research.google.com/github/dozetype/pytorch-notes/blob/main/basics.ipynb\" target=\"_parent\"><img src=\"https://colab.research.google.com/assets/colab-badge.svg\" alt=\"Open In Colab\"/></a>"
      ]
    },
    {
      "cell_type": "code",
      "execution_count": 77,
      "metadata": {
        "colab": {
          "base_uri": "https://localhost:8080/",
          "height": 36
        },
        "id": "GgGOXtibVyY9",
        "outputId": "1bb98ac3-280b-423b-b8e8-5229501f4754"
      },
      "outputs": [
        {
          "output_type": "execute_result",
          "data": {
            "text/plain": [
              "'2.6.0+cu124'"
            ],
            "application/vnd.google.colaboratory.intrinsic+json": {
              "type": "string"
            }
          },
          "metadata": {},
          "execution_count": 77
        }
      ],
      "source": [
        "import torch\n",
        "from torch import nn\n",
        "import matplotlib.pyplot as plt\n",
        "torch.__version__"
      ]
    },
    {
      "cell_type": "markdown",
      "source": [
        "# Preparing Data\n"
      ],
      "metadata": {
        "id": "8k1mNRpNV3YM"
      }
    },
    {
      "cell_type": "code",
      "source": [
        "#y = a + bx\n",
        "weight = 0.7\n",
        "bias = 0.3\n",
        "\n",
        "start = 0\n",
        "end = 1\n",
        "step = 0.02\n",
        "X = torch.arange(start,end,step).unsqueeze(dim=1)\n",
        "Y = weight*X + bias\n"
      ],
      "metadata": {
        "id": "7GnY5auDWyo-"
      },
      "execution_count": 78,
      "outputs": []
    },
    {
      "cell_type": "code",
      "source": [
        "X[:10], len(X)"
      ],
      "metadata": {
        "colab": {
          "base_uri": "https://localhost:8080/"
        },
        "id": "rzdZbdGzY1Fj",
        "outputId": "997d0780-03ba-4a3f-8004-b051c27d62be"
      },
      "execution_count": 79,
      "outputs": [
        {
          "output_type": "execute_result",
          "data": {
            "text/plain": [
              "(tensor([[0.0000],\n",
              "         [0.0200],\n",
              "         [0.0400],\n",
              "         [0.0600],\n",
              "         [0.0800],\n",
              "         [0.1000],\n",
              "         [0.1200],\n",
              "         [0.1400],\n",
              "         [0.1600],\n",
              "         [0.1800]]),\n",
              " 50)"
            ]
          },
          "metadata": {},
          "execution_count": 79
        }
      ]
    },
    {
      "cell_type": "code",
      "source": [
        "Y[:10], len(Y)"
      ],
      "metadata": {
        "colab": {
          "base_uri": "https://localhost:8080/"
        },
        "id": "VttU3MCzY4ay",
        "outputId": "18f91263-fc04-46bf-d925-1ceb62301db8"
      },
      "execution_count": 80,
      "outputs": [
        {
          "output_type": "execute_result",
          "data": {
            "text/plain": [
              "(tensor([[0.3000],\n",
              "         [0.3140],\n",
              "         [0.3280],\n",
              "         [0.3420],\n",
              "         [0.3560],\n",
              "         [0.3700],\n",
              "         [0.3840],\n",
              "         [0.3980],\n",
              "         [0.4120],\n",
              "         [0.4260]]),\n",
              " 50)"
            ]
          },
          "metadata": {},
          "execution_count": 80
        }
      ]
    },
    {
      "cell_type": "code",
      "source": [
        "train_split = int(0.8*len(X))\n",
        "X_train, Y_train = X[:train_split], Y[:train_split]\n",
        "X_test, Y_test = X[train_split:], Y[train_split:]\n",
        "len(X_train), len(Y_train), len(X_test), len(Y_test)"
      ],
      "metadata": {
        "colab": {
          "base_uri": "https://localhost:8080/"
        },
        "id": "jXoQlloUY8g8",
        "outputId": "e7b99296-8b0a-4315-8064-c62686a730a2"
      },
      "execution_count": 81,
      "outputs": [
        {
          "output_type": "execute_result",
          "data": {
            "text/plain": [
              "(40, 40, 10, 10)"
            ]
          },
          "metadata": {},
          "execution_count": 81
        }
      ]
    },
    {
      "cell_type": "code",
      "source": [
        "def plot_predictions(train_data=X_train, train_labels=Y_train, test_data=X_test, test_labels=Y_test, predictions=None):\n",
        "  # Plots training data, test data and compares predictions\n",
        "  plt.figure(figsize=(10,5))\n",
        "\n",
        "  # Plots Training data\n",
        "  plt.scatter(train_data, train_labels, c=\"b\", s=4, label=\"Training data\")\n",
        "\n",
        "  # Plots Testing data\n",
        "  plt.scatter(test_data, test_labels, c=\"r\", s=4, label=\"Testing data\")\n",
        "\n",
        "  if(predictions is not None):\n",
        "    plt.scatter(test_data, predictions, c=\"g\", s=4, label=\"Predictions\")\n",
        "\n",
        "  plt.legend(prop={\"size\":14})\n",
        "plot_predictions()"
      ],
      "metadata": {
        "colab": {
          "base_uri": "https://localhost:8080/",
          "height": 445
        },
        "id": "PsDU1BjGdF62",
        "outputId": "8bd4161a-c88d-4c9f-b519-cbecd5ab7f0e"
      },
      "execution_count": 82,
      "outputs": [
        {
          "output_type": "display_data",
          "data": {
            "text/plain": [
              "<Figure size 1000x500 with 1 Axes>"
            ],
            "image/png": "[encoded data removed]"
          },
          "metadata": {}
        }
      ]
    },
    {
      "cell_type": "markdown",
      "source": [
        "## 2. Build Model\n"
      ],
      "metadata": {
        "id": "rFlDb7fTdlUQ"
      }
    },
    {
      "cell_type": "code",
      "source": [
        "class LinearRegressionModel(nn.Module):\n",
        "    def __init__(self):\n",
        "        super().__init__()\n",
        "        self.weight = nn.Parameter(torch.randn(1, requires_grad=True, dtype=torch.float))\n",
        "        self.bias = nn.Parameter(torch.randn(1, requires_grad=True, dtype=torch.float))\n",
        "\n",
        "    def forward(self, x) -> torch.Tensor: # Overrides default forward() from nn.Module\n",
        "        return self.weight*x + self.bias"
      ],
      "metadata": {
        "id": "COYXb6fMhZmd"
      },
      "execution_count": 83,
      "outputs": []
    },
    {
      "cell_type": "code",
      "source": [],
      "metadata": {
        "id": "g1geRY-Ye3ui"
      },
      "execution_count": 83,
      "outputs": []
    },
    {
      "cell_type": "code",
      "source": [
        "# torch.manual_seed(9)\n",
        "\n",
        "model_0 = LinearRegressionModel()\n",
        "\n",
        "print(list(model_0.parameters()), '\\n')\n",
        "print(model_0.state_dict())"
      ],
      "metadata": {
        "colab": {
          "base_uri": "https://localhost:8080/"
        },
        "id": "TJUrLcmh136u",
        "outputId": "cd0bc0ac-31d0-48e8-ee83-5e459aebf1d2"
      },
      "execution_count": 84,
      "outputs": [
        {
          "output_type": "stream",
          "name": "stdout",
          "text": [
            "[Parameter containing:\n",
            "tensor([0.7473], requires_grad=True), Parameter containing:\n",
            "tensor([1.0874], requires_grad=True)] \n",
            "\n",
            "OrderedDict([('weight', tensor([0.7473])), ('bias', tensor([1.0874]))])\n"
          ]
        }
      ]
    },
    {
      "cell_type": "code",
      "source": [
        "with torch.inference_mode():\n",
        "    y_preds = model_0(X_test)\n",
        "\n",
        "y_preds\n",
        "# plot_predictions(predictions=y_preds)"
      ],
      "metadata": {
        "colab": {
          "base_uri": "https://localhost:8080/"
        },
        "id": "dbgiuIR55Ay-",
        "outputId": "4f8a5d70-396c-4169-e5f9-3eb6a6ae18db"
      },
      "execution_count": 85,
      "outputs": [
        {
          "output_type": "execute_result",
          "data": {
            "text/plain": [
              "tensor([[1.6852],\n",
              "        [1.7001],\n",
              "        [1.7151],\n",
              "        [1.7300],\n",
              "        [1.7450],\n",
              "        [1.7599],\n",
              "        [1.7749],\n",
              "        [1.7898],\n",
              "        [1.8048],\n",
              "        [1.8197]])"
            ]
          },
          "metadata": {},
          "execution_count": 85
        }
      ]
    },
    {
      "cell_type": "code",
      "source": [
        "plot_predictions(predictions=y_preds)"
      ],
      "metadata": {
        "colab": {
          "base_uri": "https://localhost:8080/",
          "height": 445
        },
        "id": "_j4_AZWJ6-8-",
        "outputId": "d8e53867-c18a-4cb7-a65b-67f3f272f02f"
      },
      "execution_count": 86,
      "outputs": [
        {
          "output_type": "display_data",
          "data": {
            "text/plain": [
              "<Figure size 1000x500 with 1 Axes>"
            ],
            "image/png": "[encoded data removed]"
          },
          "metadata": {}
        }
      ]
    },
    {
      "cell_type": "markdown",
      "source": [
        "Loss Function"
      ],
      "metadata": {
        "id": "oyKY0VlB7aMT"
      }
    },
    {
      "cell_type": "code",
      "source": [
        "MAE_loss = torch.mean(torch.abs(Y_test - y_preds))\n",
        "loss_fn = nn.L1Loss();\n",
        "print(MAE_loss)\n",
        "print(torch.nn.L1Loss()(Y_test, y_preds))"
      ],
      "metadata": {
        "colab": {
          "base_uri": "https://localhost:8080/"
        },
        "id": "qN6IhBbfB66e",
        "outputId": "55e0afe0-a408-4e56-c31f-1570914b1f8f"
      },
      "execution_count": 87,
      "outputs": [
        {
          "output_type": "stream",
          "name": "stdout",
          "text": [
            "tensor(0.8295)\n",
            "tensor(0.8295)\n"
          ]
        }
      ]
    },
    {
      "cell_type": "code",
      "source": [
        "# Optimizer\n",
        "optimizer = torch.optim.SGD(params=model_0.parameters(), lr=0.01)"
      ],
      "metadata": {
        "id": "Oos7g7c2B_rz"
      },
      "execution_count": 88,
      "outputs": []
    },
    {
      "cell_type": "code",
      "source": [
        "epochs = 100\n",
        "\n",
        "### Training a model\n",
        "# 0. Loop through the data\n",
        "for epoch in range(epochs):\n",
        "    # Set the model to training mode\n",
        "    model_0.train()\n",
        "\n",
        "    # 1. Forward pass\n",
        "    y_pred = model_0(X_train) # calls __call__() which includes forward() and many things\n",
        "\n",
        "    # 2. Calculate the loss\n",
        "    loss = loss_fn(y_pred, Y_train)\n",
        "    # print(loss)\n",
        "\n",
        "    # 3. Optimizer zero grad\n",
        "    optimizer.zero_grad()\n",
        "\n",
        "    # 4. Perform backpropagation on the loss with respect to the parameters of the model\n",
        "    loss.backward()\n",
        "\n",
        "    # 5. Step the optimizer (perform gradient descent)\n",
        "    optimizer.step()\n",
        "\n",
        "print(model_0.state_dict()) # turn of gradient tracking"
      ],
      "metadata": {
        "id": "Qo5TaB8qROt-",
        "colab": {
          "base_uri": "https://localhost:8080/"
        },
        "outputId": "4fea1321-8102-4644-af59-15a16e6051cc"
      },
      "execution_count": 95,
      "outputs": [
        {
          "output_type": "stream",
          "name": "stdout",
          "text": [
            "OrderedDict([('weight', tensor([0.6948])), ('bias', tensor([0.3049]))])\n"
          ]
        }
      ]
    },
    {
      "cell_type": "code",
      "source": [
        "with torch.inference_mode():\n",
        "    y_preds_new = model_0(X_test)\n",
        "plot_predictions(predictions=y_preds_new)"
      ],
      "metadata": {
        "id": "X4Incv6AROrI",
        "colab": {
          "base_uri": "https://localhost:8080/",
          "height": 445
        },
        "outputId": "ac25b669-94aa-4897-dace-48b35961f9e6"
      },
      "execution_count": 96,
      "outputs": [
        {
          "output_type": "display_data",
          "data": {
            "text/plain": [
              "<Figure size 1000x500 with 1 Axes>"
            ],
            "image/png": "[encoded data removed]"
          },
          "metadata": {}
        }
      ]
    },
    {
      "cell_type": "code",
      "source": [
        "model_0.weight, model_0.bias"
      ],
      "metadata": {
        "id": "OnaCosdbROea",
        "colab": {
          "base_uri": "https://localhost:8080/"
        },
        "outputId": "68d027d2-cc36-4342-c006-9c7c98921b2b"
      },
      "execution_count": 97,
      "outputs": [
        {
          "output_type": "execute_result",
          "data": {
            "text/plain": [
              "(Parameter containing:\n",
              " tensor([0.6948], requires_grad=True),\n",
              " Parameter containing:\n",
              " tensor([0.3049], requires_grad=True))"
            ]
          },
          "metadata": {},
          "execution_count": 97
        }
      ]
    },
    {
      "cell_type": "code",
      "source": [],
      "metadata": {
        "id": "6p2YSnDAbVff"
      },
      "execution_count": 91,
      "outputs": []
    }
  ]
}