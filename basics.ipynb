{
  "nbformat": 4,
  "nbformat_minor": 0,
  "metadata": {
    "colab": {
      "provenance": [],
      "gpuType": "T4",
      "authorship_tag": "ABX9TyN0wVMeLsoZKzY3hDqD8jv7",
      "include_colab_link": true
    },
    "kernelspec": {
      "name": "python3",
      "display_name": "Python 3"
    },
    "language_info": {
      "name": "python"
    },
    "accelerator": "GPU"
  },
  "cells": [
    {
      "cell_type": "markdown",
      "metadata": {
        "id": "view-in-github",
        "colab_type": "text"
      },
      "source": [
        "<a href=\"https://colab.research.google.com/github/dozetype/pytorch-notes/blob/main/basics.ipynb\" target=\"_parent\"><img src=\"https://colab.research.google.com/assets/colab-badge.svg\" alt=\"Open In Colab\"/></a>"
      ]
    },
    {
      "cell_type": "code",
      "execution_count": 363,
      "metadata": {
        "colab": {
          "base_uri": "https://localhost:8080/",
          "height": 36
        },
        "id": "GgGOXtibVyY9",
        "outputId": "0a237433-b519-43e3-eacc-d248220f4519"
      },
      "outputs": [
        {
          "output_type": "execute_result",
          "data": {
            "text/plain": [
              "'2.6.0+cu124'"
            ],
            "application/vnd.google.colaboratory.intrinsic+json": {
              "type": "string"
            }
          },
          "metadata": {},
          "execution_count": 363
        }
      ],
      "source": [
        "import torch\n",
        "from torch import nn\n",
        "import matplotlib.pyplot as plt\n",
        "import numpy as np\n",
        "torch.__version__"
      ]
    },
    {
      "cell_type": "markdown",
      "source": [
        "# Preparing Data\n"
      ],
      "metadata": {
        "id": "8k1mNRpNV3YM"
      }
    },
    {
      "cell_type": "code",
      "source": [
        "#y = a + bx\n",
        "weight = 0.7\n",
        "bias = 0.3\n",
        "\n",
        "start = 0\n",
        "end = 1\n",
        "step = 0.02\n",
        "X = torch.arange(start,end,step).unsqueeze(dim=1)\n",
        "Y = weight*X + bias\n"
      ],
      "metadata": {
        "id": "7GnY5auDWyo-"
      },
      "execution_count": 364,
      "outputs": []
    },
    {
      "cell_type": "code",
      "source": [
        "X[:10], len(X)"
      ],
      "metadata": {
        "colab": {
          "base_uri": "https://localhost:8080/"
        },
        "id": "rzdZbdGzY1Fj",
        "outputId": "d6e106b9-d8c1-4723-c6c9-c63e219987d5"
      },
      "execution_count": 365,
      "outputs": [
        {
          "output_type": "execute_result",
          "data": {
            "text/plain": [
              "(tensor([[0.0000],\n",
              "         [0.0200],\n",
              "         [0.0400],\n",
              "         [0.0600],\n",
              "         [0.0800],\n",
              "         [0.1000],\n",
              "         [0.1200],\n",
              "         [0.1400],\n",
              "         [0.1600],\n",
              "         [0.1800]]),\n",
              " 50)"
            ]
          },
          "metadata": {},
          "execution_count": 365
        }
      ]
    },
    {
      "cell_type": "code",
      "source": [
        "Y[:10], len(Y)"
      ],
      "metadata": {
        "colab": {
          "base_uri": "https://localhost:8080/"
        },
        "id": "VttU3MCzY4ay",
        "outputId": "a1bf702a-7bf5-40c9-c6dc-c4bb1ebe44df"
      },
      "execution_count": 366,
      "outputs": [
        {
          "output_type": "execute_result",
          "data": {
            "text/plain": [
              "(tensor([[0.3000],\n",
              "         [0.3140],\n",
              "         [0.3280],\n",
              "         [0.3420],\n",
              "         [0.3560],\n",
              "         [0.3700],\n",
              "         [0.3840],\n",
              "         [0.3980],\n",
              "         [0.4120],\n",
              "         [0.4260]]),\n",
              " 50)"
            ]
          },
          "metadata": {},
          "execution_count": 366
        }
      ]
    },
    {
      "cell_type": "code",
      "source": [
        "train_split = int(0.8*len(X))\n",
        "X_train, Y_train = X[:train_split], Y[:train_split]\n",
        "X_test, Y_test = X[train_split:], Y[train_split:]\n",
        "len(X_train), len(Y_train), len(X_test), len(Y_test)"
      ],
      "metadata": {
        "colab": {
          "base_uri": "https://localhost:8080/"
        },
        "id": "jXoQlloUY8g8",
        "outputId": "e3ca7b36-b5c9-4f14-94de-6e167f08f324"
      },
      "execution_count": 367,
      "outputs": [
        {
          "output_type": "execute_result",
          "data": {
            "text/plain": [
              "(40, 40, 10, 10)"
            ]
          },
          "metadata": {},
          "execution_count": 367
        }
      ]
    },
    {
      "cell_type": "code",
      "source": [
        "def plot_predictions(train_data=X_train, train_labels=Y_train, test_data=X_test, test_labels=Y_test, predictions=None):\n",
        "  # Plots training data, test data and compares predictions\n",
        "  plt.figure(figsize=(10,5))\n",
        "\n",
        "  # Plots Training data\n",
        "  plt.scatter(train_data, train_labels, c=\"b\", s=4, label=\"Training data\")\n",
        "\n",
        "  # Plots Testing data\n",
        "  plt.scatter(test_data, test_labels, c=\"r\", s=4, label=\"Testing data\")\n",
        "\n",
        "  if(predictions is not None):\n",
        "    plt.scatter(test_data, predictions, c=\"g\", s=4, label=\"Predictions\")\n",
        "\n",
        "  plt.legend(prop={\"size\":14})\n",
        "plot_predictions()"
      ],
      "metadata": {
        "colab": {
          "base_uri": "https://localhost:8080/",
          "height": 445
        },
        "id": "PsDU1BjGdF62",
        "outputId": "c2469f3a-90f5-40ca-9396-44b0f879e0d7"
      },
      "execution_count": 368,
      "outputs": [
        {
          "output_type": "display_data",
          "data": {
            "text/plain": [
              "<Figure size 1000x500 with 1 Axes>"
            ],
            "image/png": "[encoded data removed]"
          },
          "metadata": {}
        }
      ]
    },
    {
      "cell_type": "markdown",
      "source": [
        "## 2. Build Model\n"
      ],
      "metadata": {
        "id": "rFlDb7fTdlUQ"
      }
    },
    {
      "cell_type": "code",
      "source": [
        "class LinearRegressionModel(nn.Module):\n",
        "    def __init__(self):\n",
        "        super().__init__()\n",
        "        self.weight = nn.Parameter(torch.randn(1, requires_grad=True, dtype=torch.float))\n",
        "        self.bias = nn.Parameter(torch.randn(1, requires_grad=True, dtype=torch.float))\n",
        "\n",
        "    def forward(self, x) -> torch.Tensor: # Overrides default forward() from nn.Module\n",
        "        return self.weight*x + self.bias"
      ],
      "metadata": {
        "id": "COYXb6fMhZmd"
      },
      "execution_count": 369,
      "outputs": []
    },
    {
      "cell_type": "code",
      "source": [],
      "metadata": {
        "id": "g1geRY-Ye3ui"
      },
      "execution_count": 369,
      "outputs": []
    },
    {
      "cell_type": "code",
      "source": [
        "# torch.manual_seed(9)\n",
        "\n",
        "model_0 = LinearRegressionModel()\n",
        "\n",
        "print(list(model_0.parameters()), '\\n')\n",
        "print(model_0.state_dict())"
      ],
      "metadata": {
        "colab": {
          "base_uri": "https://localhost:8080/"
        },
        "id": "TJUrLcmh136u",
        "outputId": "5ec7e017-e93d-4abf-bd27-9fda297332a2"
      },
      "execution_count": 370,
      "outputs": [
        {
          "output_type": "stream",
          "name": "stdout",
          "text": [
            "[Parameter containing:\n",
            "tensor([-0.2416], requires_grad=True), Parameter containing:\n",
            "tensor([-0.5222], requires_grad=True)] \n",
            "\n",
            "OrderedDict([('weight', tensor([-0.2416])), ('bias', tensor([-0.5222]))])\n"
          ]
        }
      ]
    },
    {
      "cell_type": "code",
      "source": [
        "with torch.inference_mode():\n",
        "    y_preds = model_0(X_test)\n",
        "\n",
        "y_preds\n",
        "# plot_predictions(predictions=y_preds)"
      ],
      "metadata": {
        "colab": {
          "base_uri": "https://localhost:8080/"
        },
        "id": "dbgiuIR55Ay-",
        "outputId": "ec948118-a4b2-4411-913d-d6dec280e278"
      },
      "execution_count": 371,
      "outputs": [
        {
          "output_type": "execute_result",
          "data": {
            "text/plain": [
              "tensor([[-0.7155],\n",
              "        [-0.7203],\n",
              "        [-0.7252],\n",
              "        [-0.7300],\n",
              "        [-0.7348],\n",
              "        [-0.7397],\n",
              "        [-0.7445],\n",
              "        [-0.7493],\n",
              "        [-0.7542],\n",
              "        [-0.7590]])"
            ]
          },
          "metadata": {},
          "execution_count": 371
        }
      ]
    },
    {
      "cell_type": "code",
      "source": [
        "plot_predictions(predictions=y_preds)"
      ],
      "metadata": {
        "colab": {
          "base_uri": "https://localhost:8080/",
          "height": 445
        },
        "id": "_j4_AZWJ6-8-",
        "outputId": "64a45675-0907-4609-e431-e89996e06e05"
      },
      "execution_count": 372,
      "outputs": [
        {
          "output_type": "display_data",
          "data": {
            "text/plain": [
              "<Figure size 1000x500 with 1 Axes>"
            ],
            "image/png": "[encoded data removed]"
          },
          "metadata": {}
        }
      ]
    },
    {
      "cell_type": "markdown",
      "source": [
        "Loss Function"
      ],
      "metadata": {
        "id": "oyKY0VlB7aMT"
      }
    },
    {
      "cell_type": "code",
      "source": [
        "MAE_loss = torch.mean(torch.abs(Y_test - y_preds))\n",
        "loss_fn = nn.L1Loss();\n",
        "print(MAE_loss)\n",
        "print(torch.nn.L1Loss()(Y_test, y_preds))"
      ],
      "metadata": {
        "colab": {
          "base_uri": "https://localhost:8080/"
        },
        "id": "qN6IhBbfB66e",
        "outputId": "79e3ddd9-77b7-414e-8b19-e09f382edd8b"
      },
      "execution_count": 373,
      "outputs": [
        {
          "output_type": "stream",
          "name": "stdout",
          "text": [
            "tensor(1.6603)\n",
            "tensor(1.6603)\n"
          ]
        }
      ]
    },
    {
      "cell_type": "code",
      "source": [
        "# Optimizer\n",
        "optimizer = torch.optim.SGD(params=model_0.parameters(), lr=0.01)"
      ],
      "metadata": {
        "id": "Oos7g7c2B_rz"
      },
      "execution_count": 374,
      "outputs": []
    },
    {
      "cell_type": "code",
      "source": [
        "# Track different values\n",
        "epoch_counter = 0\n",
        "epoch_count = []\n",
        "loss_values = []\n",
        "test_loss_values = []"
      ],
      "metadata": {
        "id": "PmwaFvgXwrMP"
      },
      "execution_count": 375,
      "outputs": []
    },
    {
      "cell_type": "code",
      "source": [
        "epochs = 100\n",
        "\n",
        "### Training a model\n",
        "# 0. Loop through the data\n",
        "for epoch in range(epochs):\n",
        "    # Set the model to training mode\n",
        "    model_0.train()\n",
        "\n",
        "    # 1. Forward pass\n",
        "    y_pred = model_0(X_train) # calls __call__() which includes forward() and many things\n",
        "\n",
        "    # 2. Calculate the loss\n",
        "    loss = loss_fn(y_pred, Y_train)\n",
        "    # print(loss)\n",
        "\n",
        "    # 3. Optimizer zero grad\n",
        "    optimizer.zero_grad()\n",
        "\n",
        "    # 4. Perform backpropagation on the loss with respect to the parameters of the model\n",
        "    loss.backward()\n",
        "\n",
        "    # 5. Step the optimizer (perform gradient descent)\n",
        "    optimizer.step()\n",
        "\n",
        "    if(epoch % 10 == 0):\n",
        "        model_0.eval()\n",
        "        with torch.inference_mode():\n",
        "            test_pred = model_0(X_test)\n",
        "            test_loss = loss_fn(test_pred, Y_test)\n",
        "            print(f\"Epoch: {epoch} | Loss: {loss} | Test loss: {test_loss}\")\n",
        "\n",
        "            epoch_count.append(epoch_counter)\n",
        "            epoch_counter += 10\n",
        "            loss_values.append(loss)\n",
        "            test_loss_values.append(test_loss)\n",
        "\n",
        "print(model_0.state_dict()) # turn of gradient tracking"
      ],
      "metadata": {
        "id": "Qo5TaB8qROt-",
        "colab": {
          "base_uri": "https://localhost:8080/"
        },
        "outputId": "9e8400ee-4f2e-47f3-9582-838ccbda5baf"
      },
      "execution_count": 376,
      "outputs": [
        {
          "output_type": "stream",
          "name": "stdout",
          "text": [
            "Epoch: 0 | Loss: 1.1894352436065674 | Test loss: 1.6467832326889038\n",
            "Epoch: 10 | Loss: 1.0742251873016357 | Test loss: 1.512073278427124\n",
            "Epoch: 20 | Loss: 0.9590152502059937 | Test loss: 1.3773633241653442\n",
            "Epoch: 30 | Loss: 0.8438053131103516 | Test loss: 1.242653250694275\n",
            "Epoch: 40 | Loss: 0.7285953164100647 | Test loss: 1.1079432964324951\n",
            "Epoch: 50 | Loss: 0.6133853197097778 | Test loss: 0.9732334017753601\n",
            "Epoch: 60 | Loss: 0.49817532300949097 | Test loss: 0.8385233879089355\n",
            "Epoch: 70 | Loss: 0.3829653263092041 | Test loss: 0.7038133144378662\n",
            "Epoch: 80 | Loss: 0.26775532960891724 | Test loss: 0.5691033601760864\n",
            "Epoch: 90 | Loss: 0.17520056664943695 | Test loss: 0.44932061433792114\n",
            "OrderedDict([('weight', tensor([0.1445])), ('bias', tensor([0.4223]))])\n"
          ]
        }
      ]
    },
    {
      "cell_type": "code",
      "source": [
        "# Plotting loss's per epoch\n",
        "plt.plot(epoch_count, np.array(torch.tensor(loss_values).numpy()), label=\"Train loss\")\n",
        "plt.plot(epoch_count, np.array(torch.tensor(test_loss_values).numpy()), label=\"Test loss\")\n",
        "plt.title(\"Training and test loss curves\")\n",
        "plt.ylabel(\"Loss\")\n",
        "plt.xlabel(\"Epochs\")\n",
        "plt.legend()"
      ],
      "metadata": {
        "colab": {
          "base_uri": "https://localhost:8080/",
          "height": 490
        },
        "id": "Z8djvMHsuKms",
        "outputId": "b00cbe73-4d2d-4f21-daac-a65279b831a1"
      },
      "execution_count": 377,
      "outputs": [
        {
          "output_type": "execute_result",
          "data": {
            "text/plain": [
              "<matplotlib.legend.Legend at 0x7e0998864dd0>"
            ]
          },
          "metadata": {},
          "execution_count": 377
        },
        {
          "output_type": "display_data",
          "data": {
            "text/plain": [
              "<Figure size 640x480 with 1 Axes>"
            ],
            "image/png": "[encoded data removed]"
          },
          "metadata": {}
        }
      ]
    },
    {
      "cell_type": "code",
      "source": [
        "# Result\n",
        "with torch.inference_mode():\n",
        "    y_preds_new = model_0(X_test)\n",
        "plot_predictions(predictions=y_preds_new)"
      ],
      "metadata": {
        "id": "X4Incv6AROrI",
        "colab": {
          "base_uri": "https://localhost:8080/",
          "height": 445
        },
        "outputId": "8a8ad647-4af7-4da7-8be8-4979495babfd"
      },
      "execution_count": 378,
      "outputs": [
        {
          "output_type": "display_data",
          "data": {
            "text/plain": [
              "<Figure size 1000x500 with 1 Axes>"
            ],
            "image/png": "[encoded data removed]"
          },
          "metadata": {}
        }
      ]
    },
    {
      "cell_type": "code",
      "source": [
        "# Saving our PyTorch model\n",
        "from pathlib import Path\n",
        "\n",
        "# 1. Creating models directory\n",
        "MODEL_PATH = Path(\"models\")\n",
        "MODEL_PATH.mkdir(parents=True, exist_ok=True) #parents=true create missing folders, exist_ok=true. means dun do anything if it already exists\n",
        "\n",
        "# 2. Create model save path\n",
        "MODEL_NAME = \"01_pytorch_workflow_model.pth\"\n",
        "MODEL_SAVE_PATH = MODEL_PATH / MODEL_NAME\n",
        "\n",
        "# 3. Save the model state dict\n",
        "print(f\"Saving model to: {MODEL_SAVE_PATH}\")\n",
        "torch.save(obj=model_0.state_dict(), f=MODEL_SAVE_PATH)\n",
        "#"
      ],
      "metadata": {
        "id": "6p2YSnDAbVff",
        "colab": {
          "base_uri": "https://localhost:8080/"
        },
        "outputId": "940f9368-6f3a-4693-e77b-6da8b0e47dae"
      },
      "execution_count": 379,
      "outputs": [
        {
          "output_type": "stream",
          "name": "stdout",
          "text": [
            "Saving model to: models/01_pytorch_workflow_model.pth\n"
          ]
        }
      ]
    },
    {
      "cell_type": "markdown",
      "source": [
        "# Loading a PyTorch model\n",
        "\n",
        "Since we only saved `state_dict()` rather than entire model, we'll need to create a new instance of the model and load the `state_dict()` into it"
      ],
      "metadata": {
        "id": "nUCIT8bn_PjL"
      }
    },
    {
      "cell_type": "code",
      "source": [
        "model_0.state_dict()"
      ],
      "metadata": {
        "colab": {
          "base_uri": "https://localhost:8080/"
        },
        "id": "25BlCzKq_3aM",
        "outputId": "fc5f29b8-bb90-4030-842f-bba40cc35658"
      },
      "execution_count": 380,
      "outputs": [
        {
          "output_type": "execute_result",
          "data": {
            "text/plain": [
              "OrderedDict([('weight', tensor([0.1445])), ('bias', tensor([0.4223]))])"
            ]
          },
          "metadata": {},
          "execution_count": 380
        }
      ]
    },
    {
      "cell_type": "code",
      "source": [
        "new_model_0 = LinearRegressionModel()\n",
        "new_model_0.load_state_dict(torch.load(f=MODEL_SAVE_PATH))\n",
        "new_model_0.state_dict()"
      ],
      "metadata": {
        "colab": {
          "base_uri": "https://localhost:8080/"
        },
        "id": "40jXm1ss_8he",
        "outputId": "831f1751-f4a9-46f2-9328-f0207b8e9736"
      },
      "execution_count": 381,
      "outputs": [
        {
          "output_type": "execute_result",
          "data": {
            "text/plain": [
              "OrderedDict([('weight', tensor([0.1445])), ('bias', tensor([0.4223]))])"
            ]
          },
          "metadata": {},
          "execution_count": 381
        }
      ]
    },
    {
      "cell_type": "code",
      "source": [
        "new_model_0.eval()\n",
        "with torch.inference_mode():\n",
        "    new_preds = new_model_0(X_test)\n",
        "new_preds"
      ],
      "metadata": {
        "colab": {
          "base_uri": "https://localhost:8080/"
        },
        "id": "VzKNETmC_78c",
        "outputId": "281cf89c-1281-4dd9-82b9-3f51c2e29e45"
      },
      "execution_count": 382,
      "outputs": [
        {
          "output_type": "execute_result",
          "data": {
            "text/plain": [
              "tensor([[0.5379],\n",
              "        [0.5408],\n",
              "        [0.5437],\n",
              "        [0.5465],\n",
              "        [0.5494],\n",
              "        [0.5523],\n",
              "        [0.5552],\n",
              "        [0.5581],\n",
              "        [0.5610],\n",
              "        [0.5639]])"
            ]
          },
          "metadata": {},
          "execution_count": 382
        }
      ]
    },
    {
      "cell_type": "code",
      "source": [
        "model_0.eval()\n",
        "with torch.inference_mode():\n",
        "    y_preds = model_0(X_test)\n",
        "new_preds\n",
        "y_preds == new_preds"
      ],
      "metadata": {
        "colab": {
          "base_uri": "https://localhost:8080/"
        },
        "id": "I-LmFR9OEi0N",
        "outputId": "1c2f0874-92d1-4ae1-b115-0477b3daf6d1"
      },
      "execution_count": 383,
      "outputs": [
        {
          "output_type": "execute_result",
          "data": {
            "text/plain": [
              "tensor([[True],\n",
              "        [True],\n",
              "        [True],\n",
              "        [True],\n",
              "        [True],\n",
              "        [True],\n",
              "        [True],\n",
              "        [True],\n",
              "        [True],\n",
              "        [True]])"
            ]
          },
          "metadata": {},
          "execution_count": 383
        }
      ]
    },
    {
      "cell_type": "markdown",
      "source": [
        "#Putting It All Together ========================\n"
      ],
      "metadata": {
        "id": "Du0xx3p0EueY"
      }
    },
    {
      "cell_type": "code",
      "source": [
        "import torch\n",
        "from torch import nn\n",
        "import matplotlib.pyplot as plt\n",
        "import numpy as np\n",
        "\n",
        "# Check PyTorch version\n",
        "torch.__version__"
      ],
      "metadata": {
        "colab": {
          "base_uri": "https://localhost:8080/",
          "height": 36
        },
        "id": "rsK2RkHVG1Cb",
        "outputId": "7c52748f-366a-49e5-b30c-ac3ba3f0e58e"
      },
      "execution_count": 384,
      "outputs": [
        {
          "output_type": "execute_result",
          "data": {
            "text/plain": [
              "'2.6.0+cu124'"
            ],
            "application/vnd.google.colaboratory.intrinsic+json": {
              "type": "string"
            }
          },
          "metadata": {},
          "execution_count": 384
        }
      ]
    },
    {
      "cell_type": "code",
      "source": [
        "device = \"cuda\" if torch.cuda.is_available() else \"cpu\""
      ],
      "metadata": {
        "id": "zaEcEJaMG15_"
      },
      "execution_count": 385,
      "outputs": []
    },
    {
      "cell_type": "code",
      "source": [
        "# Creating data\n",
        "weight, bias = 1, 1\n",
        "start, end, step = 0, 1, 0.02\n",
        "X = torch.arange(start, end, step).unsqueeze(dim=1) # Need to unsqeeze otherwise error later\n",
        "Y = weight*X + bias"
      ],
      "metadata": {
        "id": "qS11apGVG12R"
      },
      "execution_count": 386,
      "outputs": []
    },
    {
      "cell_type": "code",
      "source": [
        "# Segregating our data\n",
        "train_split = int(0.8*len(Y))\n",
        "print(train_split)\n",
        "X_train, Y_train = X[:train_split], Y[:train_split]\n",
        "X_test, Y_test = X[train_split:], Y[train_split:]\n",
        "plot_predictions(train_data=X_train, train_labels=Y_train, test_data=X_test, test_labels=Y_test)\n"
      ],
      "metadata": {
        "colab": {
          "base_uri": "https://localhost:8080/",
          "height": 463
        },
        "id": "A553_-0ZG1kz",
        "outputId": "1afaae10-3bcf-43d1-c28d-c667a7b88904"
      },
      "execution_count": 387,
      "outputs": [
        {
          "output_type": "stream",
          "name": "stdout",
          "text": [
            "40\n"
          ]
        },
        {
          "output_type": "display_data",
          "data": {
            "text/plain": [
              "<Figure size 1000x500 with 1 Axes>"
            ],
            "image/png": "[encoded data removed]"
          },
          "metadata": {}
        }
      ]
    },
    {
      "cell_type": "code",
      "source": [
        "# Model using built in Linear Layer\n",
        "class LinearRegressionModel(nn.Module):\n",
        "    def __init__(self):\n",
        "        super().__init__()\n",
        "        self.linearLayer = nn.Linear(in_features=1, out_features=1)\n",
        "\n",
        "    def forward(self, x):\n",
        "        return self.linearLayer(x)"
      ],
      "metadata": {
        "id": "QpO5l142G1eC"
      },
      "execution_count": 388,
      "outputs": []
    },
    {
      "cell_type": "code",
      "source": [
        "model_1 = LinearRegressionModel()\n",
        "model_1.state_dict()"
      ],
      "metadata": {
        "colab": {
          "base_uri": "https://localhost:8080/"
        },
        "id": "uuUnuCoLQK--",
        "outputId": "180324ee-6f3b-4497-a3e3-35353c850086"
      },
      "execution_count": 389,
      "outputs": [
        {
          "output_type": "execute_result",
          "data": {
            "text/plain": [
              "OrderedDict([('linearLayer.weight', tensor([[0.5522]])),\n",
              "             ('linearLayer.bias', tensor([-0.1499]))])"
            ]
          },
          "metadata": {},
          "execution_count": 389
        }
      ]
    },
    {
      "cell_type": "code",
      "source": [
        "# Moving all data into GPU\n",
        "model_1 = model_1.to(device)\n",
        "X_train = X_train.to(device)\n",
        "Y_train = Y_train.to(device)\n",
        "X_test = X_test.to(device)\n",
        "Y_test = Y_test.to(device)\n",
        "device"
      ],
      "metadata": {
        "colab": {
          "base_uri": "https://localhost:8080/",
          "height": 36
        },
        "id": "1DGa4qDYV0pS",
        "outputId": "17517904-d008-4bcc-fb63-a56ddee80417"
      },
      "execution_count": 390,
      "outputs": [
        {
          "output_type": "execute_result",
          "data": {
            "text/plain": [
              "'cuda'"
            ],
            "application/vnd.google.colaboratory.intrinsic+json": {
              "type": "string"
            }
          },
          "metadata": {},
          "execution_count": 390
        }
      ]
    },
    {
      "cell_type": "code",
      "source": [
        "# Declaring which loss fn and optimizer to use to get results for model\n",
        "loss_fn = nn.L1Loss()\n",
        "optimizer = torch.optim.SGD(params=model_1.parameters(), lr = 0.01)"
      ],
      "metadata": {
        "id": "4CEvDv83S6P8"
      },
      "execution_count": 391,
      "outputs": []
    },
    {
      "cell_type": "code",
      "source": [
        "# Training Loop\n",
        "epochs = 200\n",
        "\n",
        "for epoch in range(epochs+1):\n",
        "    model_1.train()\n",
        "    y_preds = model_1(X_train)\n",
        "    loss = loss_fn(y_preds, Y_train)\n",
        "    optimizer.zero_grad()\n",
        "    loss.backward()\n",
        "    optimizer.step()\n",
        "    if(epoch % 10 == 0):\n",
        "        model_1.eval()\n",
        "        with torch.inference_mode():\n",
        "            test_pred = model_1(X_test)\n",
        "            test_loss = loss_fn(test_pred, Y_test)\n",
        "            print(f\"Epoch: {epoch} | Loss: {loss} | Test_Loss: {test_loss}\")\n",
        "print(model_1.state_dict())"
      ],
      "metadata": {
        "colab": {
          "base_uri": "https://localhost:8080/"
        },
        "id": "N0G6ADieVuGY",
        "outputId": "adfed5da-aaaf-4a7b-8e24-f3955a720170"
      },
      "execution_count": 392,
      "outputs": [
        {
          "output_type": "stream",
          "name": "stdout",
          "text": [
            "Epoch: 0 | Loss: 1.3245970010757446 | Test_Loss: 1.5350327491760254\n",
            "Epoch: 10 | Loss: 1.2093870639801025 | Test_Loss: 1.4003227949142456\n",
            "Epoch: 20 | Loss: 1.0941771268844604 | Test_Loss: 1.2656129598617554\n",
            "Epoch: 30 | Loss: 0.9789671301841736 | Test_Loss: 1.1309030055999756\n",
            "Epoch: 40 | Loss: 0.8637571334838867 | Test_Loss: 0.9961929321289062\n",
            "Epoch: 50 | Loss: 0.7485471963882446 | Test_Loss: 0.8614832162857056\n",
            "Epoch: 60 | Loss: 0.6333374381065369 | Test_Loss: 0.7267733216285706\n",
            "Epoch: 70 | Loss: 0.51812744140625 | Test_Loss: 0.5920635461807251\n",
            "Epoch: 80 | Loss: 0.40291762351989746 | Test_Loss: 0.4573536813259125\n",
            "Epoch: 90 | Loss: 0.28770777583122253 | Test_Loss: 0.32264384627342224\n",
            "Epoch: 100 | Loss: 0.17249789834022522 | Test_Loss: 0.1879340410232544\n",
            "Epoch: 110 | Loss: 0.05728801712393761 | Test_Loss: 0.05322420597076416\n",
            "Epoch: 120 | Loss: 0.011203977279365063 | Test_Loss: 0.0006598353502340615\n",
            "Epoch: 130 | Loss: 0.011203977279365063 | Test_Loss: 0.0006598353502340615\n",
            "Epoch: 140 | Loss: 0.011203977279365063 | Test_Loss: 0.0006598353502340615\n",
            "Epoch: 150 | Loss: 0.011203977279365063 | Test_Loss: 0.0006598353502340615\n",
            "Epoch: 160 | Loss: 0.011203977279365063 | Test_Loss: 0.0006598353502340615\n",
            "Epoch: 170 | Loss: 0.011203977279365063 | Test_Loss: 0.0006598353502340615\n",
            "Epoch: 180 | Loss: 0.011203977279365063 | Test_Loss: 0.0006598353502340615\n",
            "Epoch: 190 | Loss: 0.011203977279365063 | Test_Loss: 0.0006598353502340615\n",
            "Epoch: 200 | Loss: 0.011203977279365063 | Test_Loss: 0.0006598353502340615\n",
            "OrderedDict([('linearLayer.weight', tensor([[1.0007]], device='cuda:0')), ('linearLayer.bias', tensor([1.0000], device='cuda:0'))])\n"
          ]
        }
      ]
    },
    {
      "cell_type": "code",
      "source": [
        "model_1.eval()\n",
        "with torch.inference_mode():\n",
        "    y_preds = model_1(X_test)\n",
        "plot_predictions(\n",
        "    train_data=X_train.cpu(),\n",
        "    train_labels=Y_train.cpu(),\n",
        "    test_data=X_test.cpu(),\n",
        "    test_labels=Y_test.cpu(),\n",
        "    predictions=y_preds.cpu()\n",
        ")"
      ],
      "metadata": {
        "colab": {
          "base_uri": "https://localhost:8080/",
          "height": 445
        },
        "id": "qm3tyHzBW1BU",
        "outputId": "0a6c0803-071b-4664-8ab2-35f22c8d64f5"
      },
      "execution_count": 393,
      "outputs": [
        {
          "output_type": "display_data",
          "data": {
            "text/plain": [
              "<Figure size 1000x500 with 1 Axes>"
            ],
            "image/png": "[encoded data removed]"
          },
          "metadata": {}
        }
      ]
    },
    {
      "cell_type": "code",
      "source": [
        "# Saving state_dict()\n",
        "from pathlib import Path\n",
        "\n",
        "MODEL_PATH = Path(\"models\")\n",
        "MODEL_PATH.mkdir(parents=True, exist_ok=True)\n",
        "\n",
        "MODEL_NAME = \"02_pytorch_workflow_model_2.pth\"\n",
        "MODEL_SAVE_PATH = MODEL_PATH / MODEL_NAME\n",
        "\n",
        "print(f\"Saving mode to: {MODEL_SAVE_PATH}\")\n",
        "torch.save(obj=model_1.state_dict(), f=MODEL_SAVE_PATH)"
      ],
      "metadata": {
        "colab": {
          "base_uri": "https://localhost:8080/"
        },
        "id": "Zv0yc2LvZJfe",
        "outputId": "1d414516-31cb-401f-c4e1-75d5e581dcc8"
      },
      "execution_count": 394,
      "outputs": [
        {
          "output_type": "stream",
          "name": "stdout",
          "text": [
            "Saving mode to: models/02_pytorch_workflow_model_2.pth\n"
          ]
        }
      ]
    },
    {
      "cell_type": "code",
      "source": [
        "# Loading state_dict() onto new model\n",
        "new_model_1 = LinearRegressionModel()\n",
        "new_model_1 = new_model_1.to(device)\n",
        "new_model_1.load_state_dict(torch.load(f=MODEL_SAVE_PATH))\n",
        "new_model_1.state_dict()"
      ],
      "metadata": {
        "colab": {
          "base_uri": "https://localhost:8080/"
        },
        "id": "p7i_WiJPf1Gk",
        "outputId": "d646af59-642b-45a6-b9e0-80d8baf0bd77"
      },
      "execution_count": 395,
      "outputs": [
        {
          "output_type": "execute_result",
          "data": {
            "text/plain": [
              "OrderedDict([('linearLayer.weight', tensor([[1.0007]], device='cuda:0')),\n",
              "             ('linearLayer.bias', tensor([1.0000], device='cuda:0'))])"
            ]
          },
          "metadata": {},
          "execution_count": 395
        }
      ]
    },
    {
      "cell_type": "code",
      "source": [
        "# Evaluate. See that with same state_dict() it produces same results\n",
        "new_model_1.eval()\n",
        "with torch.inference_mode():\n",
        "    new_preds = new_model_1(X_test)\n",
        "y_preds == new_preds"
      ],
      "metadata": {
        "colab": {
          "base_uri": "https://localhost:8080/"
        },
        "id": "nV2DTbYqgCVn",
        "outputId": "79e5aca8-c0b7-4eca-c344-acb1b8f76eb6"
      },
      "execution_count": 396,
      "outputs": [
        {
          "output_type": "execute_result",
          "data": {
            "text/plain": [
              "tensor([[True],\n",
              "        [True],\n",
              "        [True],\n",
              "        [True],\n",
              "        [True],\n",
              "        [True],\n",
              "        [True],\n",
              "        [True],\n",
              "        [True],\n",
              "        [True]], device='cuda:0')"
            ]
          },
          "metadata": {},
          "execution_count": 396
        }
      ]
    },
    {
      "cell_type": "code",
      "source": [],
      "metadata": {
        "id": "F8keYaYDgS6G"
      },
      "execution_count": 396,
      "outputs": []
    }
  ]
}