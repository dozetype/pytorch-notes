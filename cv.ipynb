{
  "nbformat": 4,
  "nbformat_minor": 0,
  "metadata": {
    "colab": {
      "provenance": [],
      "gpuType": "T4",
      "authorship_tag": "ABX9TyMqCgyDNRjNL8Tto0FTt5ee",
      "include_colab_link": true
    },
    "kernelspec": {
      "name": "python3",
      "display_name": "Python 3"
    },
    "language_info": {
      "name": "python"
    },
    "accelerator": "GPU",
  },
  "cells": [
    {
      "cell_type": "markdown",
      "metadata": {
        "id": "view-in-github",
        "colab_type": "text"
      },
      "source": [
        "<a href=\"https://colab.research.google.com/github/dozetype/pytorch-notes/blob/main/cv.ipynb\" target=\"_parent\"><img src=\"https://colab.research.google.com/assets/colab-badge.svg\" alt=\"Open In Colab\"/></a>"
      ]
    },
    {
      "cell_type": "code",
      "execution_count": 159,
      "metadata": {
        "id": "wOVMNGADFCFq"
      },
      "outputs": [],
      "source": [
        "# Libraries\n",
        "import torch\n",
        "from torch import nn\n",
        "\n",
        "import torchvision\n",
        "from torchvision import datasets\n",
        "from torchvision import transforms\n",
        "from torchvision.transforms import ToTensor\n",
        "import matplotlib.pyplot as plt\n",
        "\n",
        "\n",
        "device = \"cuda\" if torch.cuda.is_available() else \"cpu\""
      ]
    },
    {
      "cell_type": "code",
      "source": [
        "train_data = datasets.FashionMNIST(\n",
        "    root=\"data\", # where downloaded content is\n",
        "    train=True, # do we want training dataset\n",
        "    download=True,\n",
        "    transform=ToTensor(), # How do u wanna transform data\n",
        "    target_transform=None # How do we wanna the labels/target\n",
        ")\n",
        "\n",
        "test_data = datasets.FashionMNIST(\n",
        "    root=\"data\", # where downloaded content is\n",
        "    train=False, # do we want training dataset\n",
        "    download=True,\n",
        "    transform=ToTensor(), # How do u wanna transform data\n",
        "    target_transform=None # How do we wanna the labels/target\n",
        ")\n",
        "len(train_data), len(test_data)"
      ],
      "metadata": {
        "colab": {
          "base_uri": "https://localhost:8080/"
        },
        "id": "_Cn21zpMJbxC",
        "outputId": "c0bde606-6e5f-4d52-d59e-5bd9d71e5642"
      },
      "execution_count": 160,
      "outputs": [
        {
          "output_type": "execute_result",
          "data": {
            "text/plain": [
              "(60000, 10000)"
            ]
          },
          "metadata": {},
          "execution_count": 160
        }
      ]
    },
    {
      "cell_type": "code",
      "source": [
        "classes = train_data.classes\n",
        "classes"
      ],
      "metadata": {
        "colab": {
          "base_uri": "https://localhost:8080/"
        },
        "id": "HHDowDZuK4Kl",
        "outputId": "d106415c-74cc-4724-ee2e-84710585adce"
      },
      "execution_count": 161,
      "outputs": [
        {
          "output_type": "execute_result",
          "data": {
            "text/plain": [
              "['T-shirt/top',\n",
              " 'Trouser',\n",
              " 'Pullover',\n",
              " 'Dress',\n",
              " 'Coat',\n",
              " 'Sandal',\n",
              " 'Shirt',\n",
              " 'Sneaker',\n",
              " 'Bag',\n",
              " 'Ankle boot']"
            ]
          },
          "metadata": {},
          "execution_count": 161
        }
      ]
    },
    {
      "cell_type": "code",
      "source": [
        "image = train_data[0][0]\n",
        "label = train_data[0][1]\n",
        "image.shape, classes[label]"
      ],
      "metadata": {
        "colab": {
          "base_uri": "https://localhost:8080/"
        },
        "id": "Xnp5cprNNaur",
        "outputId": "232d7cc9-68ba-4a94-aeb4-9274a9b9c7f9"
      },
      "execution_count": 162,
      "outputs": [
        {
          "output_type": "execute_result",
          "data": {
            "text/plain": [
              "(torch.Size([1, 28, 28]), 'Ankle boot')"
            ]
          },
          "metadata": {},
          "execution_count": 162
        }
      ]
    },
    {
      "cell_type": "code",
      "source": [
        "# classes\n",
        "train_data.targets[:5]"
      ],
      "metadata": {
        "colab": {
          "base_uri": "https://localhost:8080/"
        },
        "id": "nw5iWv7hK80g",
        "outputId": "3487292e-b6e1-4641-f93e-7d16190155b7"
      },
      "execution_count": 163,
      "outputs": [
        {
          "output_type": "execute_result",
          "data": {
            "text/plain": [
              "tensor([9, 0, 0, 3, 0])"
            ]
          },
          "metadata": {},
          "execution_count": 163
        }
      ]
    },
    {
      "cell_type": "code",
      "source": [
        "# Viewing image\n",
        "plt.figure(figsize=(12, 6))\n",
        "plt.subplot(1, 2, 1)\n",
        "plt.imshow(image.squeeze(), cmap=\"gray\")\n",
        "plt.title(classes[label])\n",
        "\n",
        "plt.subplot(1, 2, 2)\n",
        "plt.imshow(image.squeeze())"
      ],
      "metadata": {
        "colab": {
          "base_uri": "https://localhost:8080/",
          "height": 357
        },
        "id": "gIXXdyYNNEmn",
        "outputId": "e1392bc2-8b52-4f23-ca0b-c1b63b3b0735"
      },
      "execution_count": 164,
      "outputs": [
        {
          "output_type": "execute_result",
          "data": {
            "text/plain": [
              "<matplotlib.image.AxesImage at 0x7f2f4dadb0d0>"
            ]
          },
          "metadata": {},
          "execution_count": 164
        },
        {
          "output_type": "display_data",
          "data": {
            "text/plain": [
              "<Figure size 1200x600 with 2 Axes>"
            ],
            "image/png": "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\n"
          },
          "metadata": {}
        }
      ]
    },
    {
      "cell_type": "code",
      "source": [
        "# Plotting more images\n",
        "torch.manual_seed(42)\n",
        "\n",
        "fig = plt.figure(figsize=(9, 9))\n",
        "rows, cols = 4, 4\n",
        "for i in range(1, rows*cols + 1):\n",
        "    random_idx = torch.randint(0, len(train_data), size=[1]).item()\n",
        "    img, label = train_data[random_idx]\n",
        "    fig.add_subplot(rows, cols, i)\n",
        "    plt.imshow(img.squeeze(), cmap=\"gray\")\n",
        "    plt.title(classes[label])\n",
        "    plt.axis(False)"
      ],
      "metadata": {
        "colab": {
          "base_uri": "https://localhost:8080/",
          "height": 678
        },
        "id": "ntfe5qA5WOYD",
        "outputId": "8ed08666-018b-46fd-d615-778c6a6607af"
      },
      "execution_count": 165,
      "outputs": [
        {
          "output_type": "display_data",
          "data": {
            "text/plain": [
              "<Figure size 900x900 with 16 Axes>"
            ],
            "image/png": "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\n"
          },
          "metadata": {}
        }
      ]
    },
    {
      "cell_type": "code",
      "source": [
        "train_data, test_data"
      ],
      "metadata": {
        "colab": {
          "base_uri": "https://localhost:8080/"
        },
        "id": "1F3pL_gIW85O",
        "outputId": "a164feac-3dad-4096-a005-021d33d6dd2e"
      },
      "execution_count": 166,
      "outputs": [
        {
          "output_type": "execute_result",
          "data": {
            "text/plain": [
              "(Dataset FashionMNIST\n",
              "     Number of datapoints: 60000\n",
              "     Root location: data\n",
              "     Split: Train\n",
              "     StandardTransform\n",
              " Transform: ToTensor(),\n",
              " Dataset FashionMNIST\n",
              "     Number of datapoints: 10000\n",
              "     Root location: data\n",
              "     Split: Test\n",
              "     StandardTransform\n",
              " Transform: ToTensor())"
            ]
          },
          "metadata": {},
          "execution_count": 166
        }
      ]
    },
    {
      "cell_type": "markdown",
      "source": [
        "# DataLoader\n",
        "DataLoaders turns dataset into iterable(mini batches)\n",
        "1. we need to store in mini batches as we can't store all 60000 images in the ram\n",
        "2. it gives the nn more chance to update the gradient per epoch. update gradient every 32 images instead of 1 time every 60000 img per epoch"
      ],
      "metadata": {
        "id": "l18kvs2CYTtF"
      }
    },
    {
      "cell_type": "code",
      "source": [
        "# Creating batches\n",
        "from torch.utils.data import DataLoader\n",
        "\n",
        "BATCH_SIZE = 32\n",
        "train_dataloader = DataLoader(dataset=train_data, batch_size=BATCH_SIZE, shuffle=True)\n",
        "test_dataloader = DataLoader(dataset=test_data, batch_size=BATCH_SIZE, shuffle=False) # Better to not shuffle test data\n",
        "len(train_dataloader), len(test_dataloader)"
      ],
      "metadata": {
        "colab": {
          "base_uri": "https://localhost:8080/"
        },
        "id": "GkFGOqceab5v",
        "outputId": "abd94025-0cfa-4938-8a06-73132fab5fcb"
      },
      "execution_count": 167,
      "outputs": [
        {
          "output_type": "execute_result",
          "data": {
            "text/plain": [
              "(1875, 313)"
            ]
          },
          "metadata": {},
          "execution_count": 167
        }
      ]
    },
    {
      "cell_type": "code",
      "source": [
        "# Extracting a batch from the iterable\n",
        "train_img_batch, train_label_batch = next(iter(train_dataloader))\n",
        "train_img_batch.shape, train_label_batch.shape"
      ],
      "metadata": {
        "colab": {
          "base_uri": "https://localhost:8080/"
        },
        "id": "7S_mwtxJa3kk",
        "outputId": "cf9f2987-a358-4d50-f6bf-184bfa9228e3"
      },
      "execution_count": 168,
      "outputs": [
        {
          "output_type": "execute_result",
          "data": {
            "text/plain": [
              "(torch.Size([32, 1, 28, 28]), torch.Size([32]))"
            ]
          },
          "metadata": {},
          "execution_count": 168
        }
      ]
    },
    {
      "cell_type": "code",
      "source": [
        "# Show a sample from the batch\n",
        "# torch.manual_seed(42)\n",
        "index = torch.randint(0, len(train_img_batch), size=[1]).item() # take a tensor of size (1,) out from 0 to size\n",
        "img, label = train_img_batch[index], train_label_batch[index]\n",
        "\n",
        "plt.imshow(img.squeeze(), cmap=\"gray\")\n",
        "plt.title(classes[label])\n",
        "print(f\"Label Number: {label}\")"
      ],
      "metadata": {
        "colab": {
          "base_uri": "https://localhost:8080/",
          "height": 470
        },
        "id": "EW09kYq8gp20",
        "outputId": "1d7cf3f7-0f9f-48d2-8aa9-7d04fc9e643f"
      },
      "execution_count": 169,
      "outputs": [
        {
          "output_type": "stream",
          "name": "stdout",
          "text": [
            "Label Number: 8\n"
          ]
        },
        {
          "output_type": "display_data",
          "data": {
            "text/plain": [
              "<Figure size 640x480 with 1 Axes>"
            ],
            "image/png": "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\n"
          },
          "metadata": {}
        }
      ]
    },
    {
      "cell_type": "markdown",
      "source": [
        "# Base Line Model\n",
        "A simple starting point model"
      ],
      "metadata": {
        "id": "ulOeuWo4g84u"
      }
    },
    {
      "cell_type": "code",
      "source": [
        "# flatten model, similar to nn.Linear\n",
        "flatten_model = nn.Flatten()\n",
        "\n",
        "x = train_img_batch[0] # colour_channel, height, width\n",
        "output = flatten_model(x) # perform forward pass\n",
        "print(f\"Shape before flatten: {x.shape} -> [colour_channel, height, width]\")\n",
        "print(f\"Shape after flatten: {output.shape} -> [colour_channel, height*width]\")\n"
      ],
      "metadata": {
        "colab": {
          "base_uri": "https://localhost:8080/"
        },
        "id": "8NDrT9LVsJaW",
        "outputId": "40db79ef-9e98-4999-816f-b9a897890af8"
      },
      "execution_count": 170,
      "outputs": [
        {
          "output_type": "stream",
          "name": "stdout",
          "text": [
            "Shape before flatten: torch.Size([1, 28, 28]) -> [colour_channel, height, width]\n",
            "Shape after flatten: torch.Size([1, 784]) -> [colour_channel, height*width]\n"
          ]
        }
      ]
    },
    {
      "cell_type": "code",
      "source": [
        "class Model0(nn.Module):\n",
        "    def __init__(self, input_shape: int, hidden_units: int, output_shape: int):\n",
        "        super().__init__()\n",
        "        self.layer_stack = nn.Sequential(\n",
        "            nn.Flatten(),\n",
        "            nn.Linear(in_features=input_shape, out_features=hidden_units),\n",
        "            nn.Linear(in_features=hidden_units, out_features=output_shape)\n",
        "        )\n",
        "\n",
        "    def forward(self, x):\n",
        "        return self.layer_stack(x)\n"
      ],
      "metadata": {
        "id": "_Uri39F8s3Qc"
      },
      "execution_count": 171,
      "outputs": []
    },
    {
      "cell_type": "code",
      "source": [
        "torch.manual_seed(42)\n",
        "\n",
        "model0 = Model0(input_shape=784, hidden_units=10, output_shape=len(classes)).to(device)\n",
        "model0"
      ],
      "metadata": {
        "colab": {
          "base_uri": "https://localhost:8080/"
        },
        "id": "eVViHRCGvyvF",
        "outputId": "1a576fff-9f06-4476-9b66-bfa3657f2505"
      },
      "execution_count": 172,
      "outputs": [
        {
          "output_type": "execute_result",
          "data": {
            "text/plain": [
              "Model0(\n",
              "  (layer_stack): Sequential(\n",
              "    (0): Flatten(start_dim=1, end_dim=-1)\n",
              "    (1): Linear(in_features=784, out_features=10, bias=True)\n",
              "    (2): Linear(in_features=10, out_features=10, bias=True)\n",
              "  )\n",
              ")"
            ]
          },
          "metadata": {},
          "execution_count": 172
        }
      ]
    },
    {
      "cell_type": "code",
      "source": [
        "dummy_data = torch.rand(1, 28, 28).to(device)\n",
        "model0(dummy_data)"
      ],
      "metadata": {
        "colab": {
          "base_uri": "https://localhost:8080/"
        },
        "id": "Xhb4-RLIwbvN",
        "outputId": "fbc87bea-8fa2-40f4-e419-687633f4e2c2"
      },
      "execution_count": 173,
      "outputs": [
        {
          "output_type": "execute_result",
          "data": {
            "text/plain": [
              "tensor([[-0.0315,  0.3171,  0.0531, -0.2525,  0.5959,  0.2112,  0.3233,  0.2694,\n",
              "         -0.1004,  0.0157]], grad_fn=<AddmmBackward0>)"
            ]
          },
          "metadata": {},
          "execution_count": 173
        }
      ]
    },
    {
      "cell_type": "markdown",
      "source": [
        "# Loss fn, Optimizer, Accuracy fn"
      ],
      "metadata": {
        "id": "K1mKdPW8zX40"
      }
    },
    {
      "cell_type": "code",
      "source": [
        "import requests\n",
        "from pathlib import Path\n",
        "\n",
        "if(not Path(\"helper_functions.py\").exists()):\n",
        "    print(\"Downloading helper_functions.py\")\n",
        "    request = requests.get(\"https://raw.githubusercontent.com/mrdbourke/pytorch-deep-learning/main/helper_functions.py\")\n",
        "    with open(\"helper_functions.py\", \"wb\") as f:\n",
        "        f.write(request.content)"
      ],
      "metadata": {
        "id": "csKux9rQwbna"
      },
      "execution_count": 174,
      "outputs": []
    },
    {
      "cell_type": "code",
      "source": [
        "from helper_functions import accuracy_fn\n",
        "loss_fn = nn.CrossEntropyLoss()\n",
        "optimizer = torch.optim.SGD(params=model0.parameters(), lr=0.1)"
      ],
      "metadata": {
        "id": "64s3J0_yzNTe"
      },
      "execution_count": 175,
      "outputs": []
    },
    {
      "cell_type": "code",
      "source": [
        "# Timer\n",
        "\n",
        "# import time\n",
        "# start = time.time()\n",
        "\n",
        "from timeit import default_timer as timer\n",
        "def print_train_time(start: float, end: float, device: torch.device = None):\n",
        "    total_time = end - start\n",
        "    print(f\"Train time on {device}: {total_time:.3f} seconds\")\n",
        "    return total_time\n",
        "\n",
        "start, end = timer(), timer()\n",
        "print_train_time(start, end, device)"
      ],
      "metadata": {
        "colab": {
          "base_uri": "https://localhost:8080/"
        },
        "id": "AokDbD8VzNQ9",
        "outputId": "7d6ce823-07c7-4204-a11e-affe2c3caa18"
      },
      "execution_count": 176,
      "outputs": [
        {
          "output_type": "stream",
          "name": "stdout",
          "text": [
            "Train time on cpu: 0.000 seconds\n"
          ]
        },
        {
          "output_type": "execute_result",
          "data": {
            "text/plain": [
              "1.5099976735655218e-07"
            ]
          },
          "metadata": {},
          "execution_count": 176
        }
      ]
    },
    {
      "cell_type": "code",
      "source": [
        "def train_step(model: nn.Module, data_loader: DataLoader, loss_fn: nn.Module, optimizer: torch.optim.Optimizer, accuracy_fn):\n",
        "    train_loss, train_acc = 0, 0\n",
        "    for batch, (X, y) in enumerate(data_loader):\n",
        "        X, y = X.to(device), y.to(device)\n",
        "        model.train()\n",
        "\n",
        "        # 1. Forward Pass\n",
        "        y_pred = model(X)\n",
        "\n",
        "        # 2. Calculate Loss (per batch)\n",
        "        loss = loss_fn(y_pred, y)\n",
        "        train_loss += loss\n",
        "        train_acc += accuracy_fn(y_true=y, y_pred=y_pred.argmax(dim=1))\n",
        "\n",
        "        # 3. Reset gradients, gradient descent, back propagate\n",
        "        optimizer.zero_grad()\n",
        "        loss.backward()\n",
        "        optimizer.step()\n",
        "\n",
        "    train_loss /= len(data_loader)\n",
        "    train_acc /= len(data_loader)\n",
        "    print(f\"Train loss: {train_loss: .4f} | Train acc: {train_acc: .4f}\")\n",
        "\n",
        "    return {\"train_loss\": train_loss.item(), \"train_acc\": train_acc}"
      ],
      "metadata": {
        "id": "bZuoSp-4IqSP"
      },
      "execution_count": 177,
      "outputs": []
    },
    {
      "cell_type": "code",
      "source": [
        "def test_step(model: nn.Module, data_loader: DataLoader, loss_fn: nn.Module, accuracy_fn):\n",
        "    loss, acc = 0, 0\n",
        "    model.eval()\n",
        "\n",
        "    with torch.inference_mode():\n",
        "        for X, y in tqdm(data_loader):\n",
        "            X, y = X.to(device), y.to(device)\n",
        "\n",
        "            y_pred = model(X)\n",
        "            loss += loss_fn(y_pred, y)\n",
        "            acc += accuracy_fn(y_true=y, y_pred=y_pred.argmax(dim=1))\n",
        "\n",
        "        loss /= len(data_loader)\n",
        "        acc /= len(data_loader)\n",
        "\n",
        "    return {\"model_name\": model.__class__.__name__,\n",
        "            \"model_loss\": loss.item(),\n",
        "            \"model_acc\": acc}"
      ],
      "metadata": {
        "id": "5-QnfhEKKutq"
      },
      "execution_count": 183,
      "outputs": []
    },
    {
      "cell_type": "code",
      "source": [
        "from tqdm.auto import tqdm\n",
        "\n",
        "torch.manual_seed(42)\n",
        "train_start = timer()\n",
        "\n",
        "epochs = 3\n",
        "\n",
        "for epochs in tqdm(range(epochs)):\n",
        "    print(f\"Epoch: {epochs}\")\n",
        "    train_step(model=model0, data_loader=train_dataloader, loss_fn=loss_fn, optimizer=optimizer, accuracy_fn=accuracy_fn)\n",
        "\n",
        "    test_loss, test_acc = 0, 0\n",
        "    model0.eval()\n",
        "    with torch.inference_mode():\n",
        "        for X_test, y_test in test_dataloader:\n",
        "            test_pred = model0(X_test)\n",
        "            test_loss += loss_fn(test_pred, y_test)\n",
        "            test_acc += accuracy_fn(y_true=y_test, y_pred=test_pred.argmax(dim=1))\n",
        "\n",
        "        test_loss /= len(test_dataloader)\n",
        "        test_acc /= len(test_dataloader)\n",
        "\n",
        "train_end = timer()\n",
        "print_train_time(train_start, train_end, device)"
      ],
      "metadata": {
        "colab": {
          "base_uri": "https://localhost:8080/",
          "height": 196,
          "referenced_widgets": [
            "02a226b7d1d0472a85d74af4dc99e9e9",
            "e508c8e9b9fd4f47938c36c081336f12",
            "58027bb8843b41779f73bad670d83b23",
            "2d5b04959a2440abb33b70d9d0a62767",
            "6f55514c860d445dba8d454db32e02c8",
            "4afd108db9d142598ad8e9f833883848",
            "bb58fcd3d9d54a7796bf9020d662c2a8",
            "0b97dc295e2f496eaf1923181bf4e1c4",
            "e211b971a3234858b67feaff33da3579",
            "6d41bb8a82bd4b0b951d541024465015",
            "47742f14e3514c22b5b3686e47f7d137"
          ]
        },
        "id": "xqFIHNxtzNOi",
        "outputId": "53feb48f-4b71-4c63-dc9c-199ae013bff3"
      },
      "execution_count": 178,
      "outputs": [
        {
          "output_type": "display_data",
          "data": {
            "text/plain": [
              "  0%|          | 0/3 [00:00<?, ?it/s]"
            ],
            "application/vnd.jupyter.widget-view+json": {
              "version_major": 2,
              "version_minor": 0,
              "model_id": "02a226b7d1d0472a85d74af4dc99e9e9"
            }
          },
          "metadata": {}
        },
        {
          "output_type": "stream",
          "name": "stdout",
          "text": [
            "Epoch: 0\n",
            "Train loss:  0.5904 | Train acc:  79.1717\n",
            "Epoch: 1\n",
            "Train loss:  0.4763 | Train acc:  83.3200\n",
            "Epoch: 2\n",
            "Train loss:  0.4550 | Train acc:  84.0517\n",
            "Train time on cpu: 36.323 seconds\n"
          ]
        },
        {
          "output_type": "execute_result",
          "data": {
            "text/plain": [
              "36.32287286399969"
            ]
          },
          "metadata": {},
          "execution_count": 178
        }
      ]
    },
    {
      "cell_type": "code",
      "source": [
        "torch.manual_seed(42)\n",
        "\n",
        "model0_results = test_step(model=model0, data_loader=test_dataloader, loss_fn=loss_fn, accuracy_fn=accuracy_fn)\n",
        "model0_results\n"
      ],
      "metadata": {
        "colab": {
          "base_uri": "https://localhost:8080/",
          "height": 104,
          "referenced_widgets": [
            "649bdf184777452ba885444fd4e5e36e",
            "2ad45caeebef42a4b21f473034c3ca87",
            "85e3d0a88f3a43e2b7b800d3f6fc31b4",
            "d55d99bc6c4d4a9f9f228837849fe852",
            "0becd7875de045da906b4de609d98be4",
            "794eed09b69d409bb61af3e76be6fccb",
            "67c7057b5982490098f81622cbc5f633",
            "5ac4c0d670b64799960ee03df09df2bd",
            "aad5b5187fdd41a68df00565d0a1e462",
            "75b34d78722943398190cbca98d9c956",
            "620ab725454b488ba141545bc3dda67a"
          ]
        },
        "id": "On26HHNL7tfK",
        "outputId": "a5df2537-3750-4fb9-9176-392f3c7ed4a3"
      },
      "execution_count": 184,
      "outputs": [
        {
          "output_type": "display_data",
          "data": {
            "text/plain": [
              "  0%|          | 0/313 [00:00<?, ?it/s]"
            ],
            "application/vnd.jupyter.widget-view+json": {
              "version_major": 2,
              "version_minor": 0,
              "model_id": "649bdf184777452ba885444fd4e5e36e"
            }
          },
          "metadata": {}
        },
        {
          "output_type": "execute_result",
          "data": {
            "text/plain": [
              "{'model_name': 'Model0',\n",
              " 'model_loss': 0.47663894295692444,\n",
              " 'model_acc': 83.42651757188499}"
            ]
          },
          "metadata": {},
          "execution_count": 184
        }
      ]
    },
    {
      "cell_type": "markdown",
      "source": [
        "# Improved Model"
      ],
      "metadata": {
        "id": "_uV8aZ5MzNLz"
      }
    },
    {
      "cell_type": "code",
      "source": [
        "class Model1(nn.Module):\n",
        "    def __init__(self, input_shape: int, hidden_units: int, output_shape: int):\n",
        "        super().__init__()\n",
        "        self.layer_stack = nn.Sequential(\n",
        "            nn.Flatten(),\n",
        "            nn.Linear(in_features=input_shape, out_features=hidden_units),\n",
        "            nn.ReLU(),\n",
        "            nn.Linear(in_features=hidden_units, out_features=output_shape)\n",
        "        )\n",
        "\n",
        "    def forward(self, x):\n",
        "        return self.layer_stack(x)"
      ],
      "metadata": {
        "id": "-kIpo9RIzNJa"
      },
      "execution_count": 180,
      "outputs": []
    },
    {
      "cell_type": "code",
      "source": [
        "model1 = Model1(input_shape=784, hidden_units=10, output_shape=len(classes)).to(device)\n",
        "next(model1.parameters()).device"
      ],
      "metadata": {
        "colab": {
          "base_uri": "https://localhost:8080/"
        },
        "id": "QVrxJMuhzNGm",
        "outputId": "dbae7662-8e2b-4f3d-ff34-609b40e35982"
      },
      "execution_count": 181,
      "outputs": [
        {
          "output_type": "execute_result",
          "data": {
            "text/plain": [
              "device(type='cpu')"
            ]
          },
          "metadata": {},
          "execution_count": 181
        }
      ]
    },
    {
      "cell_type": "code",
      "source": [],
      "metadata": {
        "id": "fcHOCVgDzND8"
      },
      "execution_count": 181,
      "outputs": []
    },
    {
      "cell_type": "code",
      "source": [],
      "metadata": {
        "id": "Aof5BsKQzNBV"
      },
      "execution_count": 181,
      "outputs": []
    },
    {
      "cell_type": "code",
      "source": [],
      "metadata": {
        "id": "nmwlsOw9zM61"
      },
      "execution_count": 181,
      "outputs": []
    }
  ]
}
